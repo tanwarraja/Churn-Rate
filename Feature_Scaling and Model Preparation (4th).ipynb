{
 "cells": [
  {
   "cell_type": "code",
   "execution_count": 111,
   "metadata": {},
   "outputs": [],
   "source": [
    "import pandas as pd\n",
    "\n",
    "X_Train = pd.read_csv('X_Train_Churn.csv')\n",
    "X_Test= pd.read_csv('X_Test_Churn.csv')\n",
    "Y_Train= pd.read_csv('Y_Train_Churn.csv')\n",
    "Y_Test= pd.read_csv('Y_Test_Churn.csv')"
   ]
  },
  {
   "cell_type": "code",
   "execution_count": 112,
   "metadata": {},
   "outputs": [
    {
     "name": "stdout",
     "output_type": "stream",
     "text": [
      "<class 'pandas.core.frame.DataFrame'>\n",
      "RangeIndex: 15614 entries, 0 to 15613\n",
      "Data columns (total 23 columns):\n",
      " #   Column                     Non-Null Count  Dtype  \n",
      "---  ------                     --------------  -----  \n",
      " 0   age                        15614 non-null  float64\n",
      " 1   credit_score               15614 non-null  float64\n",
      " 2   deposits                   15614 non-null  int64  \n",
      " 3   withdrawal                 15614 non-null  int64  \n",
      " 4   purchases_partners         15614 non-null  int64  \n",
      " 5   purchases                  15614 non-null  int64  \n",
      " 6   cc_taken                   15614 non-null  int64  \n",
      " 7   web_user                   15614 non-null  int64  \n",
      " 8   app_web_user               15614 non-null  int64  \n",
      " 9   ios_user                   15614 non-null  int64  \n",
      " 10  registered_phones          15614 non-null  int64  \n",
      " 11  cancelled_loan             15614 non-null  int64  \n",
      " 12  received_loan              15614 non-null  int64  \n",
      " 13  rejected_loan              15614 non-null  int64  \n",
      " 14  left_for_two_month_plus    15614 non-null  int64  \n",
      " 15  left_for_one_month         15614 non-null  int64  \n",
      " 16  reward_rate                15614 non-null  float64\n",
      " 17  housing_O                  15614 non-null  int64  \n",
      " 18  housing_R                  15614 non-null  int64  \n",
      " 19  payment_type_Bi-Weekly     15614 non-null  int64  \n",
      " 20  payment_type_Monthly       15614 non-null  int64  \n",
      " 21  payment_type_Semi-Monthly  15614 non-null  int64  \n",
      " 22  payment_type_Weekly        15614 non-null  int64  \n",
      "dtypes: float64(3), int64(20)\n",
      "memory usage: 2.7 MB\n"
     ]
    }
   ],
   "source": [
    "X_Train.info()"
   ]
  },
  {
   "cell_type": "code",
   "execution_count": 113,
   "metadata": {},
   "outputs": [],
   "source": [
    "#Feature Scaling ... All Variables should be on same scale\n",
    "from sklearn.preprocessing import StandardScaler\n",
    "sc = StandardScaler()\n",
    "#Feature Scaling or Standardization or All features should be in same range -- Should not be applied to Dummy Variables as they are already between +3 to -3.\n",
    "# So Feature Scaling will further ruin it .... So only apply to Numerical Variables\n",
    "X_Train = sc.fit_transform(X_Train.iloc[:,:26])     # Only apply this to Age and Salary column... 2nd Last and Last Variable\n",
    "X_Test = sc.fit_transform(X_Test.iloc[:,:26])"
   ]
  },
  {
   "cell_type": "code",
   "execution_count": 114,
   "metadata": {},
   "outputs": [
    {
     "name": "stderr",
     "output_type": "stream",
     "text": [
      "C:\\Users\\Raja Tanwar\\anaconda3\\lib\\site-packages\\sklearn\\utils\\validation.py:73: DataConversionWarning: A column-vector y was passed when a 1d array was expected. Please change the shape of y to (n_samples, ), for example using ravel().\n",
      "  return f(**kwargs)\n"
     ]
    },
    {
     "data": {
      "text/plain": [
       "LogisticRegression(random_state=0)"
      ]
     },
     "execution_count": 114,
     "metadata": {},
     "output_type": "execute_result"
    }
   ],
   "source": [
    "from sklearn.linear_model import LogisticRegression\n",
    "classifier = LogisticRegression(random_state=0)\n",
    "classifier.fit(X_Train, Y_Train)"
   ]
  },
  {
   "cell_type": "code",
   "execution_count": 115,
   "metadata": {},
   "outputs": [],
   "source": [
    "#Predicting The Test (Validation) Set\n",
    "\n",
    "import numpy as np\n",
    "\n",
    "Y_pred = classifier.predict(X_Test)     #Just use X_Test to Predict\n"
   ]
  },
  {
   "cell_type": "code",
   "execution_count": 116,
   "metadata": {},
   "outputs": [
    {
     "name": "stdout",
     "output_type": "stream",
     "text": [
      "[[2440 2293]\n",
      " [ 801 2566]]\n",
      "0.6180246913580247\n",
      "0.5280922000411608\n",
      "0.7621027621027621\n",
      "0.6238755166545101\n"
     ]
    }
   ],
   "source": [
    "#Making Confusion Matrix\n",
    "from sklearn.metrics import confusion_matrix, accuracy_score, f1_score, precision_score, recall_score\n",
    "cm = confusion_matrix(Y_Test, Y_pred)\n",
    "accuracy_score(Y_Test, Y_pred)\n",
    "precision_score(Y_Test, Y_pred) # tp / (tp + fp)\n",
    "recall_score(Y_Test, Y_pred) # tp / (tp + fn)\n",
    "f1_score(Y_Test, Y_pred)\n",
    "print(cm)\n",
    "print(accuracy_score(Y_Test, Y_pred))\n",
    "print(precision_score(Y_Test, Y_pred))\n",
    "print(recall_score(Y_Test, Y_pred))\n",
    "print(f1_score(Y_Test, Y_pred))"
   ]
  },
  {
   "cell_type": "code",
   "execution_count": 117,
   "metadata": {
    "scrolled": true
   },
   "outputs": [
    {
     "name": "stderr",
     "output_type": "stream",
     "text": [
      "C:\\Users\\Raja Tanwar\\anaconda3\\lib\\site-packages\\sklearn\\utils\\validation.py:73: DataConversionWarning: A column-vector y was passed when a 1d array was expected. Please change the shape of y to (n_samples, ), for example using ravel().\n",
      "  return f(**kwargs)\n",
      "C:\\Users\\Raja Tanwar\\anaconda3\\lib\\site-packages\\sklearn\\utils\\validation.py:73: DataConversionWarning: A column-vector y was passed when a 1d array was expected. Please change the shape of y to (n_samples, ), for example using ravel().\n",
      "  return f(**kwargs)\n",
      "C:\\Users\\Raja Tanwar\\anaconda3\\lib\\site-packages\\sklearn\\utils\\validation.py:73: DataConversionWarning: A column-vector y was passed when a 1d array was expected. Please change the shape of y to (n_samples, ), for example using ravel().\n",
      "  return f(**kwargs)\n",
      "C:\\Users\\Raja Tanwar\\anaconda3\\lib\\site-packages\\sklearn\\utils\\validation.py:73: DataConversionWarning: A column-vector y was passed when a 1d array was expected. Please change the shape of y to (n_samples, ), for example using ravel().\n",
      "  return f(**kwargs)\n",
      "C:\\Users\\Raja Tanwar\\anaconda3\\lib\\site-packages\\sklearn\\utils\\validation.py:73: DataConversionWarning: A column-vector y was passed when a 1d array was expected. Please change the shape of y to (n_samples, ), for example using ravel().\n",
      "  return f(**kwargs)\n",
      "C:\\Users\\Raja Tanwar\\anaconda3\\lib\\site-packages\\sklearn\\utils\\validation.py:73: DataConversionWarning: A column-vector y was passed when a 1d array was expected. Please change the shape of y to (n_samples, ), for example using ravel().\n",
      "  return f(**kwargs)\n",
      "C:\\Users\\Raja Tanwar\\anaconda3\\lib\\site-packages\\sklearn\\utils\\validation.py:73: DataConversionWarning: A column-vector y was passed when a 1d array was expected. Please change the shape of y to (n_samples, ), for example using ravel().\n",
      "  return f(**kwargs)\n",
      "C:\\Users\\Raja Tanwar\\anaconda3\\lib\\site-packages\\sklearn\\utils\\validation.py:73: DataConversionWarning: A column-vector y was passed when a 1d array was expected. Please change the shape of y to (n_samples, ), for example using ravel().\n",
      "  return f(**kwargs)\n",
      "C:\\Users\\Raja Tanwar\\anaconda3\\lib\\site-packages\\sklearn\\utils\\validation.py:73: DataConversionWarning: A column-vector y was passed when a 1d array was expected. Please change the shape of y to (n_samples, ), for example using ravel().\n",
      "  return f(**kwargs)\n",
      "C:\\Users\\Raja Tanwar\\anaconda3\\lib\\site-packages\\sklearn\\utils\\validation.py:73: DataConversionWarning: A column-vector y was passed when a 1d array was expected. Please change the shape of y to (n_samples, ), for example using ravel().\n",
      "  return f(**kwargs)\n"
     ]
    },
    {
     "name": "stdout",
     "output_type": "stream",
     "text": [
      "Accuracy: 64.29 %\n",
      "Standard Deviation: 1.53 %\n"
     ]
    }
   ],
   "source": [
    "# Applying K Fold Cross Validation\n",
    "from sklearn.model_selection import cross_val_score\n",
    "accuracies = cross_val_score(estimator=classifier, X = X_Train, y = Y_Train, cv=10)\n",
    "print(\"Accuracy: {:.2f} %\".format(accuracies.mean()*100))\n",
    "print(\"Standard Deviation: {:.2f} %\".format(accuracies.std()*100))"
   ]
  }
 ],
 "metadata": {
  "kernelspec": {
   "display_name": "Python 3",
   "language": "python",
   "name": "python3"
  },
  "language_info": {
   "codemirror_mode": {
    "name": "ipython",
    "version": 3
   },
   "file_extension": ".py",
   "mimetype": "text/x-python",
   "name": "python",
   "nbconvert_exporter": "python",
   "pygments_lexer": "ipython3",
   "version": "3.8.3"
  }
 },
 "nbformat": 4,
 "nbformat_minor": 4
}
