{
 "cells": [
  {
   "cell_type": "code",
   "execution_count": 31,
   "metadata": {},
   "outputs": [],
   "source": [
    "import pandas as pd"
   ]
  },
  {
   "cell_type": "code",
   "execution_count": 32,
   "metadata": {},
   "outputs": [],
   "source": [
    "Data_File = pd.read_csv('Churn_Data_T1.csv')"
   ]
  },
  {
   "cell_type": "code",
   "execution_count": 33,
   "metadata": {},
   "outputs": [],
   "source": [
    "Data_File = pd.get_dummies(Data_File)"
   ]
  },
  {
   "cell_type": "code",
   "execution_count": 34,
   "metadata": {
    "scrolled": true
   },
   "outputs": [
    {
     "name": "stdout",
     "output_type": "stream",
     "text": [
      "<class 'pandas.core.frame.DataFrame'>\n",
      "RangeIndex: 27000 entries, 0 to 26999\n",
      "Data columns (total 26 columns):\n",
      " #   Column                     Non-Null Count  Dtype  \n",
      "---  ------                     --------------  -----  \n",
      " 0   churn                      27000 non-null  int64  \n",
      " 1   age                        27000 non-null  float64\n",
      " 2   credit_score               27000 non-null  float64\n",
      " 3   deposits                   27000 non-null  int64  \n",
      " 4   withdrawal                 27000 non-null  int64  \n",
      " 5   purchases_partners         27000 non-null  int64  \n",
      " 6   purchases                  27000 non-null  int64  \n",
      " 7   cc_taken                   27000 non-null  int64  \n",
      " 8   web_user                   27000 non-null  int64  \n",
      " 9   app_web_user               27000 non-null  int64  \n",
      " 10  ios_user                   27000 non-null  int64  \n",
      " 11  registered_phones          27000 non-null  int64  \n",
      " 12  cancelled_loan             27000 non-null  int64  \n",
      " 13  received_loan              27000 non-null  int64  \n",
      " 14  rejected_loan              27000 non-null  int64  \n",
      " 15  left_for_two_month_plus    27000 non-null  int64  \n",
      " 16  left_for_one_month         27000 non-null  int64  \n",
      " 17  reward_rate                27000 non-null  float64\n",
      " 18  housing_O                  27000 non-null  uint8  \n",
      " 19  housing_R                  27000 non-null  uint8  \n",
      " 20  housing_na                 27000 non-null  uint8  \n",
      " 21  payment_type_Bi-Weekly     27000 non-null  uint8  \n",
      " 22  payment_type_Monthly       27000 non-null  uint8  \n",
      " 23  payment_type_Semi-Monthly  27000 non-null  uint8  \n",
      " 24  payment_type_Weekly        27000 non-null  uint8  \n",
      " 25  payment_type_na            27000 non-null  uint8  \n",
      "dtypes: float64(3), int64(15), uint8(8)\n",
      "memory usage: 3.9 MB\n"
     ]
    }
   ],
   "source": [
    "Data_File.info()"
   ]
  },
  {
   "cell_type": "code",
   "execution_count": 35,
   "metadata": {},
   "outputs": [],
   "source": [
    "Data_File.to_csv('churn_Data_T2.csv', index=False)"
   ]
  }
 ],
 "metadata": {
  "kernelspec": {
   "display_name": "Python 3",
   "language": "python",
   "name": "python3"
  },
  "language_info": {
   "codemirror_mode": {
    "name": "ipython",
    "version": 3
   },
   "file_extension": ".py",
   "mimetype": "text/x-python",
   "name": "python",
   "nbconvert_exporter": "python",
   "pygments_lexer": "ipython3",
   "version": "3.8.3"
  }
 },
 "nbformat": 4,
 "nbformat_minor": 4
}
