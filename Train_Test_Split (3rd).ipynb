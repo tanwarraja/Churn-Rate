{
 "cells": [
  {
   "cell_type": "code",
   "execution_count": 47,
   "metadata": {},
   "outputs": [],
   "source": [
    "import pandas as pd\n",
    "from sklearn.model_selection import train_test_split\n"
   ]
  },
  {
   "cell_type": "code",
   "execution_count": 48,
   "metadata": {},
   "outputs": [],
   "source": [
    "Data_File = pd.read_csv('churn_Data_T2.csv')"
   ]
  },
  {
   "cell_type": "code",
   "execution_count": 49,
   "metadata": {
    "scrolled": true
   },
   "outputs": [
    {
     "name": "stdout",
     "output_type": "stream",
     "text": [
      "<class 'pandas.core.frame.DataFrame'>\n",
      "RangeIndex: 27000 entries, 0 to 26999\n",
      "Data columns (total 26 columns):\n",
      " #   Column                     Non-Null Count  Dtype  \n",
      "---  ------                     --------------  -----  \n",
      " 0   churn                      27000 non-null  int64  \n",
      " 1   age                        27000 non-null  float64\n",
      " 2   credit_score               27000 non-null  float64\n",
      " 3   deposits                   27000 non-null  int64  \n",
      " 4   withdrawal                 27000 non-null  int64  \n",
      " 5   purchases_partners         27000 non-null  int64  \n",
      " 6   purchases                  27000 non-null  int64  \n",
      " 7   cc_taken                   27000 non-null  int64  \n",
      " 8   web_user                   27000 non-null  int64  \n",
      " 9   app_web_user               27000 non-null  int64  \n",
      " 10  ios_user                   27000 non-null  int64  \n",
      " 11  registered_phones          27000 non-null  int64  \n",
      " 12  cancelled_loan             27000 non-null  int64  \n",
      " 13  received_loan              27000 non-null  int64  \n",
      " 14  rejected_loan              27000 non-null  int64  \n",
      " 15  left_for_two_month_plus    27000 non-null  int64  \n",
      " 16  left_for_one_month         27000 non-null  int64  \n",
      " 17  reward_rate                27000 non-null  float64\n",
      " 18  housing_O                  27000 non-null  int64  \n",
      " 19  housing_R                  27000 non-null  int64  \n",
      " 20  housing_na                 27000 non-null  int64  \n",
      " 21  payment_type_Bi-Weekly     27000 non-null  int64  \n",
      " 22  payment_type_Monthly       27000 non-null  int64  \n",
      " 23  payment_type_Semi-Monthly  27000 non-null  int64  \n",
      " 24  payment_type_Weekly        27000 non-null  int64  \n",
      " 25  payment_type_na            27000 non-null  int64  \n",
      "dtypes: float64(3), int64(23)\n",
      "memory usage: 5.4 MB\n"
     ]
    }
   ],
   "source": [
    "Data_File.info()"
   ]
  },
  {
   "cell_type": "code",
   "execution_count": 50,
   "metadata": {},
   "outputs": [],
   "source": [
    "#Data_File.drop(['housing_na', 'zodiac_sign_na', 'payment_type_na'], axis='columns', inplace=True)\n",
    "\n",
    "Data_File.drop(['housing_na', 'payment_type_na'], axis='columns', inplace=True)"
   ]
  },
  {
   "cell_type": "code",
   "execution_count": 51,
   "metadata": {},
   "outputs": [],
   "source": [
    "X_Train, X_Test, Y_Train, Y_Test = train_test_split(Data_File.drop(columns = 'churn'), Data_File['churn'], test_size=0.3, random_state=0)"
   ]
  },
  {
   "cell_type": "code",
   "execution_count": 52,
   "metadata": {},
   "outputs": [],
   "source": [
    "# Balancing the Training Set\n",
    "import numpy as np\n",
    "Y_Train.value_counts()\n",
    "\n",
    "pos_index = Y_Train[Y_Train.values == 1].index\n",
    "neg_index = Y_Train[Y_Train.values == 0].index\n",
    "\n",
    "if len(pos_index) > len(neg_index):\n",
    "    higher = pos_index\n",
    "    lower = neg_index\n",
    "else:\n",
    "    higher = neg_index\n",
    "    lower = pos_index\n",
    "\n",
    "#np.random.seed(0)\n",
    "higher = np.random.choice(higher, size=len(lower))\n",
    "lower = np.asarray(lower)\n",
    "new_indexes = np.concatenate((lower, higher))\n",
    "\n",
    "X_Train = X_Train.loc[new_indexes,]\n",
    "Y_Train = Y_Train[new_indexes]"
   ]
  },
  {
   "cell_type": "code",
   "execution_count": 53,
   "metadata": {},
   "outputs": [],
   "source": [
    "X_Train.to_csv('X_Train_Churn.csv',index=False)\n",
    "X_Test.to_csv('X_Test_Churn.csv',index=False)\n",
    "Y_Train.to_csv('Y_Train_Churn.csv',index=False)\n",
    "Y_Test.to_csv('Y_Test_Churn.csv',index=False)"
   ]
  }
 ],
 "metadata": {
  "kernelspec": {
   "display_name": "Python 3",
   "language": "python",
   "name": "python3"
  },
  "language_info": {
   "codemirror_mode": {
    "name": "ipython",
    "version": 3
   },
   "file_extension": ".py",
   "mimetype": "text/x-python",
   "name": "python",
   "nbconvert_exporter": "python",
   "pygments_lexer": "ipython3",
   "version": "3.8.3"
  }
 },
 "nbformat": 4,
 "nbformat_minor": 4
}
